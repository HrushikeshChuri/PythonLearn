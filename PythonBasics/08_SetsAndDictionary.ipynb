{
 "cells": [
  {
   "cell_type": "markdown",
   "id": "dc832ace-a4a9-4140-b784-fcb21b08a5fc",
   "metadata": {},
   "source": [
    "## Sets and Dictionary"
   ]
  },
  {
   "cell_type": "code",
   "execution_count": null,
   "id": "76fa59a8-f1c8-4f92-8b60-6f9ec1a744ff",
   "metadata": {},
   "outputs": [],
   "source": []
  }
 ],
 "metadata": {
  "kernelspec": {
   "display_name": "Python 3 (ipykernel)",
   "language": "python",
   "name": "python3"
  },
  "language_info": {
   "codemirror_mode": {
    "name": "ipython",
    "version": 3
   },
   "file_extension": ".py",
   "mimetype": "text/x-python",
   "name": "python",
   "nbconvert_exporter": "python",
   "pygments_lexer": "ipython3",
   "version": "3.12.7"
  }
 },
 "nbformat": 4,
 "nbformat_minor": 5
}
