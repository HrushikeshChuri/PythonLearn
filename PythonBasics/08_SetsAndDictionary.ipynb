{
 "cells": [
  {
   "cell_type": "markdown",
   "id": "dc832ace-a4a9-4140-b784-fcb21b08a5fc",
   "metadata": {},
   "source": [
    "## Sets and Dictionary"
   ]
  },
  {
   "cell_type": "markdown",
   "id": "3dea655c-54b7-4727-bd64-6bad5a503636",
   "metadata": {},
   "source": [
    "Common operations related to sequence:\n",
    "\n",
    "    1. Access single or multiple items from sequence\n",
    "    2. Traverse through sequence\n",
    "    3. Check if item is in sequence or not\n",
    "    4. Manipulating Sequence - Add/Modify/Remove item\n",
    "    5. Type specific operations (like tuple unpacking)"
   ]
  },
  {
   "cell_type": "markdown",
   "id": "9a66e187-b8c8-415d-a9c2-c00c6d948e5a",
   "metadata": {},
   "source": [
    "### Sets"
   ]
  },
  {
   "cell_type": "markdown",
   "id": "06b87c5f-e605-4023-8603-e41dc5535622",
   "metadata": {},
   "source": [
    "1. Set is unordered - Order is not fixed while accessing or traversing set (**Unordered**)\n",
    "2. Set has unique items - all duplicates will be removed (**Unique**)\n",
    "3. Items can be added or removed from set but cannot be changed (**immutable**)\n",
    "4. Sets can have tems with different data types"
   ]
  },
  {
   "cell_type": "code",
   "execution_count": null,
   "id": "110400c7-d814-4b45-a64a-28c34ea200be",
   "metadata": {},
   "outputs": [],
   "source": [
    "sampleSet = {\"string\", 1234 , True, False, 1234 , \"string\", 1, 0} # duplicate items will be removed\n",
    "# Note: True and 1 / False and 0 are considered as same in sets. So one of them will be removed to preserve uniqueness of set\n",
    "\n",
    "print(sampleSet)"
   ]
  },
  {
   "cell_type": "code",
   "execution_count": null,
   "id": "9a4d3a2b-0d4e-455f-844b-09a8cba76353",
   "metadata": {},
   "outputs": [],
   "source": [
    "# Access single or multiple items from sequence\n",
    "\n",
    "for item in sampleSet:\n",
    "    print(item)"
   ]
  },
  {
   "cell_type": "code",
   "execution_count": null,
   "id": "4a4796aa-d864-4c86-a229-fd421ef4c0d1",
   "metadata": {},
   "outputs": [],
   "source": [
    "# Check if item is part of set or not\n",
    "\n",
    "print(\"string\" in sampleSet)\n",
    "print(\"xys\" in sampleSet)"
   ]
  },
  {
   "cell_type": "code",
   "execution_count": null,
   "id": "00b6e100-0c62-4c7b-bf29-9ca1acb13ef4",
   "metadata": {},
   "outputs": [],
   "source": [
    "# Add item to set\n",
    "\n",
    "sampleSet.add(\"newitem\")\n",
    "print(sampleSet)"
   ]
  },
  {
   "cell_type": "code",
   "execution_count": null,
   "id": "12ec161b-b816-4f9c-a87d-76f71b9a94f2",
   "metadata": {},
   "outputs": [],
   "source": [
    "# Add new set or any other iterable sequence to existing set\n",
    "newSet = { \"newitem1\", 2, 1234}\n",
    "\n",
    "print(\"Original Set: \",sampleSet)\n",
    "\n",
    "sampleSet.update(newSet) # duplicates will be deleted (e.g. 1234), keeping only unique items\n",
    "\n",
    "print(\"Updated set: \",sampleSet)"
   ]
  },
  {
   "cell_type": "code",
   "execution_count": null,
   "id": "ce04c37f-1d41-4df9-87f8-f3ff92966b56",
   "metadata": {},
   "outputs": [],
   "source": [
    "# Remove from set\n",
    "print(\"Current Set: \",sampleSet)\n",
    "\n",
    "sampleSet.remove(\"string\")\n",
    "\n",
    "print(\"Set after removal of item: \",sampleSet)"
   ]
  },
  {
   "cell_type": "code",
   "execution_count": null,
   "id": "811ed274-b77e-443b-b801-e99705a793dd",
   "metadata": {},
   "outputs": [],
   "source": [
    "# Remove if item is not present in set\n",
    "print(\"Current Set: \",sampleSet)\n",
    "\n",
    "#sampleSet.remove(\"xyz\") # this will throw an error since item is not present\n",
    "\n",
    "sampleSet.discard(\"xyz\") #use discard method instead to avoid error\n"
   ]
  },
  {
   "cell_type": "code",
   "execution_count": null,
   "id": "e4e7f49f-c7b9-4d72-b555-05173aa2722e",
   "metadata": {},
   "outputs": [],
   "source": [
    "# Join operations on sets\n",
    "\n",
    "set1 = {1, 2, 3}\n",
    "set2 = {4, 5, 6}\n",
    "set3 = {2, 5}\n",
    "\n",
    "print(set1.union(set2)) \n",
    "print(set1.union(set3)) # Note that it eliminates duplicates\n",
    "\n",
    "# Note that update method we we have seen before is updating set and does not return modified set. so below statement  will return non\n",
    "    # print(set1.update(set2))\n",
    "\n",
    "print(set1.intersection(set3)) #common elements from both sets\n"
   ]
  },
  {
   "cell_type": "markdown",
   "id": "5f4c1996-5471-4fe7-b781-f2aa66e0b5b1",
   "metadata": {},
   "source": [
    "### Dictionary"
   ]
  },
  {
   "cell_type": "code",
   "execution_count": null,
   "id": "d8b8d5d9-f158-4074-87ad-1c037e797395",
   "metadata": {},
   "outputs": [],
   "source": [
    "sampleDict = {\n",
    "    100: \"Rajesh\",\n",
    "    101: \"Pooja\",\n",
    "    202: \"Sameer\"\n",
    "}\n",
    "\n",
    "print(sampleDict)"
   ]
  },
  {
   "cell_type": "code",
   "execution_count": null,
   "id": "22e4a18d-6cf3-48ac-90e0-23e6a390c86a",
   "metadata": {},
   "outputs": [],
   "source": [
    "# Accessing item \n",
    "\n",
    "print(sampleDict[100])\n",
    "print(sampleDict.keys()) #get all keys of dictionary"
   ]
  },
  {
   "cell_type": "code",
   "execution_count": null,
   "id": "2fe5c219-28ce-4e03-8c4c-7163fa9676cf",
   "metadata": {},
   "outputs": [],
   "source": [
    "# Traversing through all items in dictionary\n",
    "\n",
    "for k in sampleDict.keys():\n",
    "    print(f\"Element with key = {k} is {sampleDict[k]}\")"
   ]
  },
  {
   "cell_type": "code",
   "execution_count": null,
   "id": "75e456f1-577c-4a80-8c01-725a04e1140f",
   "metadata": {},
   "outputs": [],
   "source": [
    "# Another way of traversing dictionary using items method\n",
    "\n",
    "sampleDict = {\n",
    "    100: \"Rajesh\",\n",
    "    101: \"Pooja\",\n",
    "    202: \"Sameer\"\n",
    "}\n",
    "\n",
    "for key, value in sampleDict.items():\n",
    "    print(\"Separated values: \",key, \":\", value) # refer items as you refer in tuple"
   ]
  },
  {
   "cell_type": "code",
   "execution_count": null,
   "id": "f1c1cea8-26ed-47b1-b4e4-55b163d95ae6",
   "metadata": {},
   "outputs": [],
   "source": [
    "# Change values in dictionary # Access item using key and assign new value\n",
    "\n",
    "sampleDict[100] = \"Naveen\" # Access item using key and assign new value\n",
    "\n",
    "sampleDict.update({202: \"Laila\"})\n",
    "\n",
    "print(sampleDict)"
   ]
  },
  {
   "cell_type": "code",
   "execution_count": null,
   "id": "026cb0df-2885-4b62-ad3f-dd18ddaf2ff6",
   "metadata": {},
   "outputs": [],
   "source": [
    "# Add items to dictionary\n",
    "\n",
    "sampleDict[203] = \"Revati\"\n",
    "sampleDict.update({204: \"Vivan\"}) # adding new using update method\n",
    "\n",
    "print(sampleDict)"
   ]
  },
  {
   "cell_type": "code",
   "execution_count": null,
   "id": "1f2cd486-dce0-4b7e-9fbe-c470231c8b32",
   "metadata": {},
   "outputs": [],
   "source": [
    "# Remove items from dictionary\n",
    "\n",
    "print(\"Existing Dictionary: \",sampleDict)\n",
    "\n",
    "sampleDict.popitem() #pops last inserted item\n",
    "\n",
    "print(\"After popitem: \",sampleDict)\n",
    "\n",
    "sampleDict.pop(101) # pop specific item with the help of key\n",
    "# del sampleDict[101] # this also works same way as pop method\n",
    "# del sampleDict # this will completly delete dictionary. If you try to print dictionary it will throw an error\n",
    "\n",
    "print(\"After pop with 101 key: \",sampleDict)\n",
    "\n",
    "sampleDict.clear() # clear all items from dectionary. But dictionary still exists\n",
    "\n",
    "print(\"After clear: \",sampleDict)"
   ]
  },
  {
   "cell_type": "code",
   "execution_count": null,
   "id": "5084ad86-4738-408a-acf2-2e90e08b8a3c",
   "metadata": {},
   "outputs": [],
   "source": [
    "# copy existing dictionary to new one\n",
    "\n",
    "sampleDict = {\n",
    "    100: \"Rajesh\",\n",
    "    101: \"Pooja\",\n",
    "    202: \"Sameer\"\n",
    "}\n",
    "\n",
    "newDict = sampleDict.copy()\n",
    "anotherDIct = dict(sampleDict)\n",
    "\n",
    "print(newDict)\n",
    "print(anotherDIct)\n",
    "\n"
   ]
  },
  {
   "cell_type": "code",
   "execution_count": null,
   "id": "b97397ef-0e5a-4e70-8606-d4377320a8a2",
   "metadata": {},
   "outputs": [],
   "source": [
    "# Nested dictionary and traversing throuhg nested dictionary\n",
    "\n",
    "vehicalDict = {\n",
    "    \"car\": {\n",
    "        \"name\": \"car1\",\n",
    "        \"model\": \"model1\"\n",
    "    },\n",
    "    \"bike\": {\n",
    "        \"name\": \"bike1\",\n",
    "        \"model\": \"model2\"\n",
    "    },\n",
    "    \"bus\": {\n",
    "        \"name\": \"bus1\",\n",
    "        \"model\": \"model3\"\n",
    "    }\n",
    "}\n",
    "\n",
    "for key,value in vehicalDict.items():\n",
    "    print(\"For: \",key)\n",
    "    print(\"For: \",value)\n",
    "    for k,v in value.items():\n",
    "        print(k,\":\",v)\n",
    "\n"
   ]
  },
  {
   "cell_type": "code",
   "execution_count": null,
   "id": "f02d623b-b8ff-4682-a4ad-d8db3f5f022a",
   "metadata": {},
   "outputs": [],
   "source": []
  }
 ],
 "metadata": {
  "kernelspec": {
   "display_name": "Python 3 (ipykernel)",
   "language": "python",
   "name": "python3"
  },
  "language_info": {
   "codemirror_mode": {
    "name": "ipython",
    "version": 3
   },
   "file_extension": ".py",
   "mimetype": "text/x-python",
   "name": "python",
   "nbconvert_exporter": "python",
   "pygments_lexer": "ipython3",
   "version": "3.12.7"
  }
 },
 "nbformat": 4,
 "nbformat_minor": 5
}
