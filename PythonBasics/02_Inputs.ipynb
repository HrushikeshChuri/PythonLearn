{
 "cells": [
  {
   "cell_type": "markdown",
   "id": "e8903cd0-6a33-4442-84f4-cd830aec2d62",
   "metadata": {},
   "source": [
    "## Inputs"
   ]
  },
  {
   "cell_type": "code",
   "execution_count": null,
   "id": "c441b8f0-51d7-4fec-90bc-e4da46d90c3e",
   "metadata": {},
   "outputs": [],
   "source": [
    "#Input as string\n",
    "user_name = input(\"Your Name: \")\n",
    "print(\"Hello \", user_name) #one way to print variable which we have already seen\n",
    "print(\"Hello \" + user_name) #another way to print variable which we have already seen\n",
    "print(f\"Hello {user_name}\") # This is coolest way of all - also called as f-string or formatted strings. \n",
    "                            #don't forget to add 'f' in front of string"
   ]
  },
  {
   "cell_type": "code",
   "execution_count": null,
   "id": "82d586de-9cc1-4ee6-bceb-c9e7b6e3e74e",
   "metadata": {},
   "outputs": [],
   "source": [
    "#Getting input other than string\n",
    "user_height = float(input(\"Enter your height (m): \")) #Data type of input is always string\n",
    "\n",
    "ideal_weight = 25 * (user_height ** 2)\n",
    "\n",
    "print(f\" Hello {user_name}, your age is {str(user_height)} and your ideal weight is {str(ideal_weight)} kg\")\n"
   ]
  },
  {
   "cell_type": "code",
   "execution_count": null,
   "id": "0d6c3f0a-1c35-4581-bd38-6153ea794b82",
   "metadata": {},
   "outputs": [],
   "source": []
  }
 ],
 "metadata": {
  "kernelspec": {
   "display_name": "Python 3 (ipykernel)",
   "language": "python",
   "name": "python3"
  },
  "language_info": {
   "codemirror_mode": {
    "name": "ipython",
    "version": 3
   },
   "file_extension": ".py",
   "mimetype": "text/x-python",
   "name": "python",
   "nbconvert_exporter": "python",
   "pygments_lexer": "ipython3",
   "version": "3.12.7"
  }
 },
 "nbformat": 4,
 "nbformat_minor": 5
}
