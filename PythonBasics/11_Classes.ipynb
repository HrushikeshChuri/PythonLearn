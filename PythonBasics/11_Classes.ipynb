{
 "cells": [
  {
   "cell_type": "markdown",
   "id": "c9f62ea8-1d71-4ed6-b98d-5573986301d3",
   "metadata": {},
   "source": [
    "# Classes"
   ]
  },
  {
   "cell_type": "markdown",
   "id": "87d8a23f-077c-4f43-abde-6b2aa42fc1c8",
   "metadata": {},
   "source": [
    "1. Create class and object\n",
    "2. __init__() function\n",
    "3. Self paramters\n",
    "4. Object methods\n",
    "5. Inheritance\n",
    "6. Polymorphism"
   ]
  },
  {
   "cell_type": "markdown",
   "id": "750ac4aa-338b-4818-8296-1ef4f0ff3f68",
   "metadata": {},
   "source": [
    "#### Create class and object"
   ]
  },
  {
   "cell_type": "code",
   "execution_count": null,
   "id": "a480b709-74f4-4bd1-aab4-0596e46168f9",
   "metadata": {},
   "outputs": [],
   "source": [
    "# Defining class\n",
    "\n",
    "class SampleClass:\n",
    "    pi = 3.14\n",
    "\n",
    "o1 = SampleClass() # creating class object\n",
    "\n",
    "print(o1.pi) # Printing class object values"
   ]
  },
  {
   "cell_type": "markdown",
   "id": "d33400a0-0c77-4ee1-87e1-ad7bfd966915",
   "metadata": {},
   "source": [
    "#### init() function and self parameter"
   ]
  },
  {
   "cell_type": "code",
   "execution_count": null,
   "id": "0da3c9ec-1b9d-49a5-b250-0bd9bd166df6",
   "metadata": {},
   "outputs": [],
   "source": [
    "# init function is sort of constructor\n",
    "\n",
    "class Rectangle:\n",
    "    def __init__(self, width, height):\n",
    "        self.width = width\n",
    "        self.height = height\n",
    "\n",
    "\n",
    "r1 = Rectangle(10,2)\n",
    "print(f\"Width of rectangle is {r1.width} and height is {r1.height}\")"
   ]
  },
  {
   "cell_type": "markdown",
   "id": "1981f5d9-5645-468e-8c34-fde75526fa3b",
   "metadata": {},
   "source": [
    "#### Object methods"
   ]
  },
  {
   "cell_type": "code",
   "execution_count": null,
   "id": "ec8aa5c0-9f77-46ee-a6de-d7599abf7037",
   "metadata": {},
   "outputs": [],
   "source": [
    "# init function is sort of constructor\n",
    "\n",
    "class Rectangle:\n",
    "    def __init__(self, width, height):\n",
    "        self.width = width\n",
    "        self.height = height\n",
    "\n",
    "    def area(self):\n",
    "        return self.width * self.height\n",
    "        \n",
    "r1 = Rectangle(10,2)\n",
    "\n",
    "print(f\"Width of rectangle is {r1.width} and height is {r1.height}\")\n",
    "print(\"Area of rectangle is:\", r1.area())"
   ]
  },
  {
   "cell_type": "markdown",
   "id": "8b6846e0-4a4c-46f0-9e1c-a38438af11af",
   "metadata": {},
   "source": [
    "#### Inheritance"
   ]
  },
  {
   "cell_type": "code",
   "execution_count": null,
   "id": "60b44880-6d14-49f6-936b-0e9cd261fbc6",
   "metadata": {},
   "outputs": [],
   "source": [
    "class Employee: # Parent class\n",
    "    def __init__(self, firstname, lastname, designation):\n",
    "        self.firstname = firstname\n",
    "        self.lastname = lastname\n",
    "        self.designation = designation\n",
    "        \n",
    "    def displayName(self):\n",
    "        print(f\"Name: {self.firstname} {self.lastname} ({self.designation})\")\n",
    "\n",
    "class Developer(Employee): # Child class - all methods of parent class are inherited\n",
    "        salary = 100 # Child class specific attributes\n",
    "    \n",
    "d1 = Developer(\"Jane\",\"Doe\",\"Developer\")\n",
    "\n",
    "d1.displayName()\n",
    "print(f\"Salary of D1: {d1.salary}\")\n",
    "    "
   ]
  },
  {
   "cell_type": "markdown",
   "id": "5030bf1f-7e1f-4500-841b-758cc725921f",
   "metadata": {},
   "source": [
    "#### Polymorphism"
   ]
  },
  {
   "cell_type": "code",
   "execution_count": null,
   "id": "ffa5d6ef-1dcb-4b55-80a4-cf6e115dcade",
   "metadata": {},
   "outputs": [],
   "source": [
    "# Same method name with different actions\n",
    "\n",
    "class Rectangle:\n",
    "    def __init__(self, width, height):\n",
    "        self.width = width\n",
    "        self.height = height\n",
    "\n",
    "    def area(self):\n",
    "        print(f\"Area of rectangle is: {self.width * self.height}\")\n",
    "\n",
    "class Circle:\n",
    "    def __init__(self, radius):\n",
    "        self.radius = radius\n",
    "\n",
    "    def area(self):\n",
    "        print(f\"Area of circle is: {3.14 * self.radius ** 2}\")\n",
    "\n",
    "r1 = Rectangle(5,10)\n",
    "c1 = Circle(5)\n",
    "\n",
    "r1.area()\n",
    "c1.area()\n",
    "\n"
   ]
  }
 ],
 "metadata": {
  "kernelspec": {
   "display_name": "Python 3 (ipykernel)",
   "language": "python",
   "name": "python3"
  },
  "language_info": {
   "codemirror_mode": {
    "name": "ipython",
    "version": 3
   },
   "file_extension": ".py",
   "mimetype": "text/x-python",
   "name": "python",
   "nbconvert_exporter": "python",
   "pygments_lexer": "ipython3",
   "version": "3.12.7"
  }
 },
 "nbformat": 4,
 "nbformat_minor": 5
}
