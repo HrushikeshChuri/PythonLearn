{
 "cells": [
  {
   "cell_type": "markdown",
   "id": "e4ab9644-10b9-4336-bb76-fb47307a1e91",
   "metadata": {},
   "source": [
    "## List and Tuples"
   ]
  },
  {
   "cell_type": "markdown",
   "id": "ad4d6869-9e06-40c1-b39e-e520b15aeba2",
   "metadata": {},
   "source": [
    "Common operations realted to sequence:\n",
    "\n",
    "    1. Access single or multiple items from sequence\n",
    "    2. Traverse through sequence\n",
    "    3. Check if item is in sequence or not\n",
    "    4. Manipulating Sequence - Add/Modify/Remove item\n",
    "    5. Type specific operations (like tuple unpacking)"
   ]
  },
  {
   "cell_type": "markdown",
   "id": "52fe9d56-2ee9-4120-be11-f5fa9907cfb0",
   "metadata": {},
   "source": [
    "### List"
   ]
  },
  {
   "cell_type": "code",
   "execution_count": null,
   "id": "bf9b2afa-253d-40f3-acf1-2689d567d5a0",
   "metadata": {},
   "outputs": [],
   "source": [
    "# 1. List with different data types\n",
    "\n",
    "sampleList = [True, \"string1\", 3, 4.56]\n",
    "\n",
    "print(sampleList)\n",
    "print(type(sampleList))"
   ]
  },
  {
   "cell_type": "code",
   "execution_count": null,
   "id": "4901b230-e68b-450b-bf87-48b44c42ee46",
   "metadata": {},
   "outputs": [],
   "source": [
    "# 2. Accessing single or multiple list items\n",
    "\n",
    "print(sampleList[0])\n",
    "print(sampleList[1])\n",
    "print(sampleList[1:3])\n",
    "print(sampleList[:])\n",
    "print(sampleList[::-1])\n",
    "\n",
    "for item in sampleList:\n",
    "    print(f\"{item} is of type {type(item)}\")\n",
    "\n",
    "for index in range(len(sampleList)):\n",
    "    print(f\"{sampleList[index]} has index {index}\")"
   ]
  },
  {
   "cell_type": "code",
   "execution_count": null,
   "id": "a86342e6-478d-40b7-aa6b-e17290b64657",
   "metadata": {},
   "outputs": [],
   "source": [
    "# 3. Check if item is present in list or not\n",
    "\n",
    "print(3 in sampleList) # check if element is in the list\n",
    "print(True not in sampleList) # check if element is in list"
   ]
  },
  {
   "cell_type": "code",
   "execution_count": 7,
   "id": "7c1c13ad-6c40-4f6e-8aec-27131212cfea",
   "metadata": {},
   "outputs": [
    {
     "name": "stdout",
     "output_type": "stream",
     "text": [
      "[1, 2, 3, 4, 5, 6, 7, 8, 9, 10, 11, 12, 13, 14, 15, 16, 17, 18, 19, 20]\n",
      "[2, 4, 6, 8, 10, 12, 14, 16, 18, 20]\n"
     ]
    }
   ],
   "source": [
    "# 4. List comprehension\n",
    "\n",
    "numberList = list(range(1,21))  #list of number from 0 to 20\n",
    "print (numberList)\n",
    "\n",
    "evenNumberList = [x for x in numberList if x % 2 == 0] \n",
    "print(evenNumberList)"
   ]
  },
  {
   "cell_type": "code",
   "execution_count": null,
   "id": "26d16108-f53b-47a4-a6fe-7af3668eac68",
   "metadata": {},
   "outputs": [],
   "source": [
    "# 5. Manipulating List - Add/Modify Existing Item\n",
    "\n",
    "sampleList = [True, \"string1\", 3, 4.56]\n",
    "\n",
    "sampleList[1] = 99\n",
    "sampleList[2] = \"new item\"\n",
    "\n",
    "print(sampleList)\n",
    "\n",
    "## Add new item at the end\n",
    "sampleList.append(\"appended\")\n",
    "print(sampleList)\n",
    "\n",
    "sampleList.insert(3, \"inserted\")\n",
    "print(sampleList)"
   ]
  },
  {
   "cell_type": "code",
   "execution_count": null,
   "id": "f1994af5-8060-402c-9e71-f158b1148035",
   "metadata": {},
   "outputs": [],
   "source": [
    "# 6. Copying to another list or appending list\n",
    "\n",
    "list1 = [1, 2, 3]\n",
    "list2 = [4, 5, 6]\n",
    "\n",
    "list3 = list1\n",
    "print(list3)\n",
    "\n",
    "list3 = list1[:]\n",
    "print(list3)\n",
    "\n",
    "print(list1.copy())\n",
    "\n",
    "list3.extend(list2)\n",
    "print(list3)\n",
    "\n",
    "list3.reverse()\n",
    "print(list3)\n",
    "\n",
    "list3.sort()\n",
    "print(list3)"
   ]
  },
  {
   "cell_type": "code",
   "execution_count": null,
   "id": "3a4b3a76-e8b9-49bb-9108-a8279cc77ac8",
   "metadata": {},
   "outputs": [],
   "source": [
    "# Remove items(s)\n",
    "list3.pop()\n",
    "print(list3)\n",
    "\n",
    "list3.remove(2)\n",
    "print(list3)\n",
    "\n",
    "list3.clear()\n",
    "print(list3)"
   ]
  },
  {
   "cell_type": "code",
   "execution_count": null,
   "id": "3e9aa5e5-a67e-40cd-8f13-866e749f8b18",
   "metadata": {},
   "outputs": [],
   "source": [
    "# 7. Other list methods (len/count)\n",
    "\n",
    "list1 = [1, 2, 3, 3 ,4 ,5 ,4, 4]\n",
    "\n",
    "print(list1.count(4))\n",
    "print(len(list1))"
   ]
  },
  {
   "cell_type": "markdown",
   "id": "f0e7393b-ccdb-4d0f-8c16-a7979db6ea95",
   "metadata": {},
   "source": [
    "### Tuple"
   ]
  },
  {
   "cell_type": "code",
   "execution_count": null,
   "id": "8115fb2d-4653-43eb-a74e-7b1b3e0228f5",
   "metadata": {},
   "outputs": [],
   "source": [
    "\n",
    "###  Tuple is immutable. Cannot modify items in tuple\n",
    "# Accessing tuple elements is same as list \n",
    "\n",
    "sampleTuple = (1, 2, \"string\", 4.5, 5)\n",
    "\n",
    "for item in sampleTuple:\n",
    "    print(item)\n",
    "\n",
    "print(sampleTuple[1])"
   ]
  },
  {
   "cell_type": "code",
   "execution_count": null,
   "id": "0cb9e717-c6cd-48fd-97dc-b769649588bf",
   "metadata": {},
   "outputs": [],
   "source": [
    "# Update tuple\n",
    "# Convert tuple to new list --> update the new list --> Convert new list to tuple\n",
    "\n",
    "newList = list(sampleTuple)\n",
    "newList.append(\"new item\")\n",
    "\n",
    "sampleTuple = tuple(newList)\n",
    "\n",
    "print(sampleTuple)"
   ]
  },
  {
   "cell_type": "code",
   "execution_count": null,
   "id": "0ec4190b-a47f-4193-99a2-8f751105513e",
   "metadata": {},
   "outputs": [],
   "source": [
    "# Tuple Unpacking\n",
    "\n",
    "sampleTuple = (\"1\", \"2\", \"3\")\n",
    "x, y, z = sampleTuple\n",
    "\n",
    "print(f\"X: {x}, Y: {y}, Z: {z}\")"
   ]
  }
 ],
 "metadata": {
  "kernelspec": {
   "display_name": "Python 3 (ipykernel)",
   "language": "python",
   "name": "python3"
  },
  "language_info": {
   "codemirror_mode": {
    "name": "ipython",
    "version": 3
   },
   "file_extension": ".py",
   "mimetype": "text/x-python",
   "name": "python",
   "nbconvert_exporter": "python",
   "pygments_lexer": "ipython3",
   "version": "3.12.7"
  }
 },
 "nbformat": 4,
 "nbformat_minor": 5
}
