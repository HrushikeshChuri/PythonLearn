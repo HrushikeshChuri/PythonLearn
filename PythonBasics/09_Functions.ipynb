{
 "cells": [
  {
   "cell_type": "markdown",
   "id": "75d82961-cc6d-43f2-a125-21e2e368a3b6",
   "metadata": {},
   "source": [
    "## Functions"
   ]
  },
  {
   "cell_type": "markdown",
   "id": "2abda4d6-35bd-44c3-9acb-87cbdd8c7ade",
   "metadata": {},
   "source": [
    "1. Defining/creating and calling functions\n",
    "2. Global vs local variables\n",
    "3. Parameters\n",
    "    - Adding parameters in functions and passing them as arguments in function call\n",
    "    - Default parameter value\n",
    "    - List as a parameter\n",
    "4. Returning value from function\n",
    "5. Pass\n",
    "6. Recursion\n",
    "7. Lambda functions"
   ]
  },
  {
   "cell_type": "markdown",
   "id": "317ed95d-a1d2-41ef-a707-904e3fa00b4b",
   "metadata": {},
   "source": [
    "#### Defining and Creating a Function"
   ]
  },
  {
   "cell_type": "code",
   "execution_count": 10,
   "id": "1c60c000-8e04-4ffc-871b-c3549f06c0ab",
   "metadata": {},
   "outputs": [
    {
     "name": "stdout",
     "output_type": "stream",
     "text": [
      "You are calling a function!\n"
     ]
    }
   ],
   "source": [
    "# Defining function\n",
    "def myFunc():\n",
    "    print(\"You are calling a function!\")\n",
    "\n",
    "myFunc() # Calling function"
   ]
  },
  {
   "cell_type": "markdown",
   "id": "a4552403-c653-48db-8e47-29e693313664",
   "metadata": {},
   "source": [
    "#### Global and Local Variables"
   ]
  },
  {
   "cell_type": "code",
   "execution_count": 61,
   "id": "78571cec-a9c5-4314-80f4-ec95740afc0e",
   "metadata": {},
   "outputs": [
    {
     "name": "stdout",
     "output_type": "stream",
     "text": [
      "Inside Function:  This is global var\n",
      "Inside Function:  This is local var\n",
      "Outside Function:  This is global var\n"
     ]
    }
   ],
   "source": [
    "# global vs local variable - Variable scope\n",
    "\n",
    "globalVar = \"This is global var\"\n",
    "\n",
    "def newFunc():\n",
    "    localVar = \"This is local var\"\n",
    "    print(\"Inside Function: \",globalVar)\n",
    "    print(\"Inside Function: \",localVar)\n",
    "\n",
    "newFunc() #Calling function\n",
    "print(\"Outside Function: \", globalVar) # Global variables are accessible everywhere\n",
    "# print(\"Outside Function: \", localVar) # local variables defined in fuctions are not accessible outside. This will give an error\n",
    "\n"
   ]
  },
  {
   "cell_type": "code",
   "execution_count": 20,
   "id": "40f2bb41-98fa-4e70-b98f-630cdcbd5227",
   "metadata": {},
   "outputs": [
    {
     "name": "stdout",
     "output_type": "stream",
     "text": [
      "Before function call:  Global Value\n",
      "Inside Function:  Local Value\n",
      "After function call:  Global Value\n"
     ]
    }
   ],
   "source": [
    "# Changing value of global variable  \n",
    "\n",
    "globalVar = \"Global Value\"\n",
    "\n",
    "def newFunc():\n",
    "    globalVar = \"Local Value\" # This will only change value locally\n",
    "    print(\"Inside Function: \",globalVar)\n",
    "\n",
    "print(\"Before function call: \", globalVar)\n",
    "newFunc() #Calling function\n",
    "print(\"After function call: \", globalVar)\n"
   ]
  },
  {
   "cell_type": "markdown",
   "id": "ed7ab0d7-d870-4a58-a4b0-f5b286cdc675",
   "metadata": {},
   "source": [
    "#### Parameters and Arguments"
   ]
  },
  {
   "cell_type": "code",
   "execution_count": 37,
   "id": "c5f0fa51-c6aa-46d5-91ab-106e4731bea8",
   "metadata": {},
   "outputs": [
    {
     "name": "stdout",
     "output_type": "stream",
     "text": [
      "Hello Raj!\n",
      "Hello Seema!\n"
     ]
    }
   ],
   "source": [
    "# Defining parameters and passing then as an argument while calling the function\n",
    "def paramFunc(name):\n",
    "    print(f\"Hello {name}!\")\n",
    "\n",
    "paramFunc(\"Raj\") # Passing arguments\n",
    "paramFunc(name = \"Seema\")\n",
    "# paramFunc() # this will throw an error since you are not passing any parameter which is expected\n",
    "# paramFunc(fname = \"John\")  # this will throw an error"
   ]
  },
  {
   "cell_type": "code",
   "execution_count": 39,
   "id": "fc2d1cb1-c234-4584-9187-98797f835987",
   "metadata": {},
   "outputs": [
    {
     "name": "stdout",
     "output_type": "stream",
     "text": [
      "Hello Raj!\n",
      "Hello User!\n"
     ]
    }
   ],
   "source": [
    "# Defining default value for parameter. If function do not pass any value at the time of calling then default value is considered\n",
    "def paramFunc(name= \"User\"):\n",
    "    print(f\"Hello {name}!\")\n",
    "\n",
    "paramFunc(\"Raj\") # Passing arguments\n",
    "paramFunc()\n"
   ]
  },
  {
   "cell_type": "code",
   "execution_count": 43,
   "id": "02cbdd4e-77d7-4080-8cbf-2d11d02e664c",
   "metadata": {},
   "outputs": [
    {
     "name": "stdout",
     "output_type": "stream",
     "text": [
      "Storing values in variable and passing variable as an argument: \n",
      "10\n",
      "11\n",
      "25\n",
      "25\n",
      "11\n",
      "Directing passing values as an argument: \n",
      "10\n",
      "11\n",
      "25\n",
      "25\n",
      "11\n"
     ]
    }
   ],
   "source": [
    "def listFunc(scores):\n",
    "  for s in scores:\n",
    "    print(s)\n",
    "\n",
    "scores = [10, 11, 25, 25, 11]\n",
    "\n",
    "print(\"Storing values in variable and passing variable as an argument: \")\n",
    "listFunc(scores)\n",
    "print(\"Directing passing values as an argument: \")\n",
    "listFunc( [10, 11, 25, 25, 11])"
   ]
  },
  {
   "cell_type": "markdown",
   "id": "1cc1ceda-821f-463b-b63a-6d72a86b4766",
   "metadata": {},
   "source": [
    "#### Returning value from function"
   ]
  },
  {
   "cell_type": "code",
   "execution_count": 52,
   "id": "855139dc-c44d-4cee-942b-5ebc144dcd91",
   "metadata": {},
   "outputs": [
    {
     "name": "stdout",
     "output_type": "stream",
     "text": [
      "8\n",
      "64\n"
     ]
    }
   ],
   "source": [
    "def calculatePower(num, exp):\n",
    "    return num ** exp\n",
    "\n",
    "print(calculatePower(2,3))\n",
    "print(calculatePower(8,2))\n",
    "    "
   ]
  },
  {
   "cell_type": "markdown",
   "id": "d7e37399-109a-4722-adad-fab96d53b16c",
   "metadata": {},
   "source": [
    "#### Pass"
   ]
  },
  {
   "cell_type": "code",
   "execution_count": 54,
   "id": "43c09f96-8e3b-4c44-9e99-dd0745acdece",
   "metadata": {},
   "outputs": [],
   "source": [
    "# functions cannot have empty definitions. Add pass to avoid erro\n",
    "\n",
    "def myfunc():\n",
    "    pass"
   ]
  },
  {
   "cell_type": "markdown",
   "id": "3cebf4df-11a1-4655-a5f2-6aa48a6a5837",
   "metadata": {},
   "source": [
    "#### Recursion"
   ]
  },
  {
   "cell_type": "code",
   "execution_count": 77,
   "id": "e04d3591-31e5-47db-88e7-f905d6e584d0",
   "metadata": {},
   "outputs": [
    {
     "name": "stdout",
     "output_type": "stream",
     "text": [
      "55\n"
     ]
    }
   ],
   "source": [
    "# Below function returns sum of all number till the number. e.g if you pass 10 then  10 + 9 + 8....+ 2 + 1 + 0 = 55\n",
    "\n",
    "def sumOfNumber(num):\n",
    "    sums = 0 # Initialize sum to 0\n",
    "    if num > 0:\n",
    "        sums = num + sumOfNumber(num - 1) # Decrease value of number by 1 and call same function\n",
    "    return sums\n",
    "    \n",
    "print(sumOfNumber(10))"
   ]
  },
  {
   "cell_type": "markdown",
   "id": "bc3d3a1b-56cb-4c94-8bd7-52a5a3586037",
   "metadata": {},
   "source": [
    "#### Lambda"
   ]
  },
  {
   "cell_type": "code",
   "execution_count": 81,
   "id": "eda04a98-d53a-4663-b0f0-0e5aa3bddf25",
   "metadata": {},
   "outputs": [
    {
     "name": "stdout",
     "output_type": "stream",
     "text": [
      "9\n"
     ]
    }
   ],
   "source": [
    "# Lambda is shor/inline function with only single expression\n",
    "\n",
    "lSum = lambda a, b : a + b\n",
    "\n",
    "print(lSum(4,5))"
   ]
  },
  {
   "cell_type": "code",
   "execution_count": 87,
   "id": "76fa9691-6614-4f10-b68e-f359d26705bb",
   "metadata": {},
   "outputs": [
    {
     "name": "stdout",
     "output_type": "stream",
     "text": [
      "121\n",
      "1331\n"
     ]
    }
   ],
   "source": [
    "#Use case of lambda - calling function within function\n",
    "def customPower(exp):\n",
    "  return lambda num : num ** exp\n",
    "\n",
    "getPower = customPower(2) #this will sort of retun a custom fuction which will return power of 2 of any number\n",
    "\n",
    "print(getPower(11))\n",
    "\n",
    "getPower = customPower(3) #this will sort of retun a custom fuction which will return power of 3 of any number\n",
    "\n",
    "print(getPower(11))\n"
   ]
  },
  {
   "cell_type": "code",
   "execution_count": null,
   "id": "1fe6972e-2aaa-45d7-95de-714f838129c9",
   "metadata": {},
   "outputs": [],
   "source": []
  }
 ],
 "metadata": {
  "kernelspec": {
   "display_name": "Python 3 (ipykernel)",
   "language": "python",
   "name": "python3"
  },
  "language_info": {
   "codemirror_mode": {
    "name": "ipython",
    "version": 3
   },
   "file_extension": ".py",
   "mimetype": "text/x-python",
   "name": "python",
   "nbconvert_exporter": "python",
   "pygments_lexer": "ipython3",
   "version": "3.12.7"
  }
 },
 "nbformat": 4,
 "nbformat_minor": 5
}
