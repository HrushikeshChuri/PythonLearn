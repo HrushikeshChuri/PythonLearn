{
 "cells": [
  {
   "cell_type": "markdown",
   "id": "51a7b2f2-554d-4544-86e5-42da156e7f3a",
   "metadata": {},
   "source": [
    "##   Operators and Conditional Statements"
   ]
  },
  {
   "cell_type": "markdown",
   "id": "17cf9a30-97f2-4d17-bd14-afe87e8cbb5d",
   "metadata": {},
   "source": [
    "#### Arithmatic Operators:\n",
    "    + , - , *, / \n",
    "    %  - Mod operator to get remainder of division \n",
    "    ** - Power/Exponent\n",
    "  \n",
    "\n",
    "#### Comparision Operators:\n",
    "    ==, != , > , < , >= , <=\n",
    "\n",
    "#### Logical Operators:\n",
    "    and, or , not\n",
    "\n",
    "#### Conditional Statements:\n",
    "    if .. elif....else"
   ]
  },
  {
   "cell_type": "markdown",
   "id": "f16ea410-f230-4d58-9ddd-159a70cb059f",
   "metadata": {},
   "source": [
    "### Arithmatic Operators"
   ]
  },
  {
   "cell_type": "code",
   "execution_count": null,
   "id": "c731b3ff-b81d-4adb-8ab3-a9aa31e999d4",
   "metadata": {},
   "outputs": [],
   "source": [
    "\n",
    "\n",
    "a = 94\n",
    "b = 10\n",
    "\n",
    "print(f\"a: {a}, b: {b}\")\n",
    "print(\"\")\n",
    "\n",
    "print(\"a + b (addition):\", a+b)\n",
    "print(\"a - b (subtraction):\", a-b)\n",
    "print(\"a * b (multiplication):\", a*b)\n",
    "print(\"a / b (division):\", a/b)\n",
    "print(\"a // b (floor division):\", a//b) #return integer rounded to lowest value\n",
    "\n",
    "print(\"a % b (remainder):\", a%b)\n",
    "\n",
    "print(\" Square of a :\", a ** 2)\n",
    "\n",
    "print(\" Square root of a :\", a ** 0.5)\n"
   ]
  },
  {
   "cell_type": "markdown",
   "id": "e18c48f3-e411-4e15-b56f-b4631357279e",
   "metadata": {},
   "source": [
    "### Comparison Operators"
   ]
  },
  {
   "cell_type": "code",
   "execution_count": 17,
   "id": "bea47f5a-d6c7-4b4a-adaa-614bede854d7",
   "metadata": {},
   "outputs": [
    {
     "name": "stdout",
     "output_type": "stream",
     "text": [
      "a: 10, b: 20\n",
      "\n",
      "a == b: False\n",
      "a != b: True\n",
      "a < b: True\n",
      "a > b: False\n",
      "a <= b: True\n",
      "a >= b: False\n"
     ]
    }
   ],
   "source": [
    "a = 10\n",
    "b = 20\n",
    "\n",
    "print(f\"a: {a}, b: {b}\")\n",
    "print(\"\")\n",
    "\n",
    "print(\"a == b:\", a == b)\n",
    "print(\"a != b:\", a != b)\n",
    "print(\"a < b:\", a < b)\n",
    "print(\"a > b:\", a > b)\n",
    "print(\"a <= b:\", a <= b)\n",
    "print(\"a >= b:\", a >= b)"
   ]
  },
  {
   "cell_type": "markdown",
   "id": "b15759c4-a55f-4aa1-8ea2-bb1308045a46",
   "metadata": {},
   "source": [
    "### Logical Operators"
   ]
  },
  {
   "cell_type": "code",
   "execution_count": null,
   "id": "ff92d3ca-10e6-436a-a744-6316ac554a6e",
   "metadata": {},
   "outputs": [],
   "source": [
    "a = 10\n",
    "b = 20\n",
    "c = 30\n",
    "\n",
    "print(f\"a: {a}, b: {b}, c: {c}\")\n",
    "print(\"\")\n",
    "\n",
    "print(\"a == b or b == c: \", a == b or b == c)\n",
    "print(\"a != b and b != c: \", a != b and b != c)\n",
    "print(\"not a < b: \", not a < b)"
   ]
  },
  {
   "cell_type": "markdown",
   "id": "2f9a430a-7386-4869-8b35-2bd44935fab2",
   "metadata": {},
   "source": [
    "### Conditional Statements"
   ]
  },
  {
   "cell_type": "code",
   "execution_count": 23,
   "id": "64aa68ee-d2a3-480c-b201-ad05d95163b2",
   "metadata": {},
   "outputs": [
    {
     "name": "stdin",
     "output_type": "stream",
     "text": [
      "Enter your Percentage:  85\n"
     ]
    },
    {
     "name": "stdout",
     "output_type": "stream",
     "text": [
      "Distiction!\n"
     ]
    }
   ],
   "source": [
    "# Comparison and logic operators are usually used with conditional statements\n",
    "\n",
    "percentage = int(input(\"Enter your Percentage: \"))\n",
    "\n",
    "if percentage < 40:\n",
    "    print(\"Failed!\")\n",
    "elif percentage >= 40 and percentage < 60:\n",
    "    print(\"2nd Class!\")\n",
    "elif percentage >= 60 and percentage < 80:\n",
    "    print(\"1st Class!\")\n",
    "elif percentage >= 80 and percentage <= 100:\n",
    "    print(\"Distiction!\")\n",
    "else:\n",
    "    print(\"Invalid Percentage!\")"
   ]
  },
  {
   "cell_type": "code",
   "execution_count": null,
   "id": "4591c92a-145b-4357-a982-969fe199a028",
   "metadata": {},
   "outputs": [],
   "source": [
    "\n",
    "# short hand if\n",
    "\n",
    "print(\"Failed!\") if percentage < 40 else print(\"Passed!\")  \n",
    "\n",
    "# short hand if..else\n",
    "\n",
    "print(\"Failed!\") if percentage < 40 else print(\"Distinction!\") if percentage > 80 else print(\"Passed!\") "
   ]
  }
 ],
 "metadata": {
  "kernelspec": {
   "display_name": "Python 3 (ipykernel)",
   "language": "python",
   "name": "python3"
  },
  "language_info": {
   "codemirror_mode": {
    "name": "ipython",
    "version": 3
   },
   "file_extension": ".py",
   "mimetype": "text/x-python",
   "name": "python",
   "nbconvert_exporter": "python",
   "pygments_lexer": "ipython3",
   "version": "3.12.7"
  }
 },
 "nbformat": 4,
 "nbformat_minor": 5
}
