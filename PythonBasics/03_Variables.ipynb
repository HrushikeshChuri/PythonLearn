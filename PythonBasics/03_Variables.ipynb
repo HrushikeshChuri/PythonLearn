{
 "cells": [
  {
   "cell_type": "markdown",
   "id": "01182de3-7bc0-431e-9013-3973061a6573",
   "metadata": {},
   "source": [
    "##   Variables"
   ]
  },
  {
   "cell_type": "markdown",
   "id": "64dfaac2-87ce-4dfa-b512-eca69fd5afdb",
   "metadata": {},
   "source": [
    "\n",
    "1. Variables are dynamically typed. Do not specify variable type. Variable types are inferred at run time\n",
    "2. Allowed chars variable name\n",
    "   - lower and upper case chars\n",
    "    - digits (variable name cannot start with digits)\n",
    "    - underscore (variable name can start with underscore)\n",
    "3. Variables cannot start with a number, and cannot be reserved keywords\n",
    "4. Variable names are case sensitive\n"
   ]
  },
  {
   "cell_type": "code",
   "execution_count": null,
   "id": "a51a3aaf-b2ef-426c-a401-be0c5a8d0245",
   "metadata": {},
   "outputs": [],
   "source": [
    "#As value of variable changes, so does type\n",
    "original  = 10 # int type\n",
    "print(\"Original:\", original)\n",
    "print(\"Original Type: \", type(original))\n",
    "\n",
    "original = \"Ten\" # str type\n",
    "print(\"Changed Variable: \", original)\n",
    "print(\"Changed Type: \", type(original))"
   ]
  },
  {
   "cell_type": "code",
   "execution_count": 2,
   "id": "7e049cad-67e8-4a97-83a3-3f6b4e2ba412",
   "metadata": {},
   "outputs": [],
   "source": [
    "# Types of assignments\n",
    "\n",
    "a = 5            # Simple assignment\n",
    "x, y = 1, 2      # Multiple assignment\n",
    "(x, y) = [3, 4]  # Unpacking assignment"
   ]
  },
  {
   "cell_type": "code",
   "execution_count": 4,
   "id": "1052be69-c4e6-483a-bb96-837a6da97163",
   "metadata": {},
   "outputs": [],
   "source": [
    "# Python doesn't have built-in constants. However, by convention, variables intended to be constants are written in all uppercase letters.\n",
    "\n",
    "PI = 3.14159  # Constants (convention)"
   ]
  },
  {
   "cell_type": "code",
   "execution_count": 8,
   "id": "7998c552-274c-47dc-82fa-a84a4c17d547",
   "metadata": {},
   "outputs": [
    {
     "name": "stdout",
     "output_type": "stream",
     "text": [
      "10\n"
     ]
    },
    {
     "ename": "NameError",
     "evalue": "name 'a' is not defined",
     "output_type": "error",
     "traceback": [
      "\u001b[1;31m---------------------------------------------------------------------------\u001b[0m",
      "\u001b[1;31mNameError\u001b[0m                                 Traceback (most recent call last)",
      "Cell \u001b[1;32mIn[8], line 5\u001b[0m\n\u001b[0;32m      3\u001b[0m \u001b[38;5;28mprint\u001b[39m(a)\n\u001b[0;32m      4\u001b[0m \u001b[38;5;28;01mdel\u001b[39;00m a\n\u001b[1;32m----> 5\u001b[0m \u001b[38;5;28mprint\u001b[39m(\u001b[43ma\u001b[49m)\n",
      "\u001b[1;31mNameError\u001b[0m: name 'a' is not defined"
     ]
    }
   ],
   "source": [
    "# Deleting variable\n",
    "a = 10\n",
    "print(a)\n",
    "\n",
    "del a\n",
    "print(a) # this will throw and error"
   ]
  },
  {
   "cell_type": "code",
   "execution_count": 18,
   "id": "eccde01f-78a9-442f-9fe8-2d8ecb9317b4",
   "metadata": {},
   "outputs": [
    {
     "name": "stdout",
     "output_type": "stream",
     "text": [
      "a :  10\n",
      "b :  10\n",
      "id(a):  140716560820952\n",
      "id(b):  140716560820952\n",
      "a is b:  True\n",
      "id(a):  140716560821272\n",
      "id(b):  140716560820952\n",
      "a is b:  False\n"
     ]
    }
   ],
   "source": [
    "#Reference, Unique id\n",
    "\n",
    "a = 10\n",
    "b = a\n",
    "\n",
    "print(\"a : \", a)\n",
    "print(\"b : \", b)\n",
    "\n",
    "print(\"id(a): \", id(a))\n",
    "print(\"id(b): \", id(b)) # a and b are referenceing to same object\n",
    "print(\"a is b: \", a is b)\n",
    "\n",
    "a = a + 10 # this will change the refrence value of a since value is changed\n",
    "\n",
    "print(\"id(a): \", id(a))\n",
    "print(\"id(b): \", id(b)) # a and b are referenceing to same object\n",
    "print(\"a is b: \", a is b)"
   ]
  },
  {
   "cell_type": "code",
   "execution_count": null,
   "id": "9cfebc2e-bb91-4ac5-accc-e73111d788e7",
   "metadata": {},
   "outputs": [],
   "source": []
  }
 ],
 "metadata": {
  "kernelspec": {
   "display_name": "Python 3 (ipykernel)",
   "language": "python",
   "name": "python3"
  },
  "language_info": {
   "codemirror_mode": {
    "name": "ipython",
    "version": 3
   },
   "file_extension": ".py",
   "mimetype": "text/x-python",
   "name": "python",
   "nbconvert_exporter": "python",
   "pygments_lexer": "ipython3",
   "version": "3.12.7"
  }
 },
 "nbformat": 4,
 "nbformat_minor": 5
}
