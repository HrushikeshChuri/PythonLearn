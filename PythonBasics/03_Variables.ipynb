{
 "cells": [
  {
   "cell_type": "markdown",
   "id": "01182de3-7bc0-431e-9013-3973061a6573",
   "metadata": {},
   "source": [
    "##   Variables"
   ]
  },
  {
   "cell_type": "markdown",
   "id": "64dfaac2-87ce-4dfa-b512-eca69fd5afdb",
   "metadata": {},
   "source": [
    "\n",
    "1. Do not specify variable type. Variable types are inferred at run time\n",
    "2. Allowed chars variable name\n",
    "   - lower and upper case chars\n",
    "    - digits (variable name cannot start with digits)\n",
    "    - underscore (variable name can start with underscore)\n",
    "3. Variable names are case sensitive\n"
   ]
  },
  {
   "cell_type": "code",
   "execution_count": null,
   "id": "a51a3aaf-b2ef-426c-a401-be0c5a8d0245",
   "metadata": {},
   "outputs": [],
   "source": [
    "#As value of variable changes, so does type\n",
    "original  = 10 # int type\n",
    "print(\"Original:\", original)\n",
    "print(\"Original Type: \", type(original))\n",
    "\n",
    "original = \"Ten\" # str type\n",
    "print(\"Changed Variable: \", original)\n",
    "print(\"Changed Type: \", type(original))"
   ]
  },
  {
   "cell_type": "code",
   "execution_count": null,
   "id": "eccde01f-78a9-442f-9fe8-2d8ecb9317b4",
   "metadata": {},
   "outputs": [],
   "source": [
    "#Reference, Unique id\n",
    "\n",
    "a = 10\n",
    "b = a\n",
    "\n",
    "print(\"a : \", a)\n",
    "print(\"b : \", b)\n",
    "\n",
    "print(\"a is b: \", a is b)"
   ]
  }
 ],
 "metadata": {
  "kernelspec": {
   "display_name": "Python 3 (ipykernel)",
   "language": "python",
   "name": "python3"
  },
  "language_info": {
   "codemirror_mode": {
    "name": "ipython",
    "version": 3
   },
   "file_extension": ".py",
   "mimetype": "text/x-python",
   "name": "python",
   "nbconvert_exporter": "python",
   "pygments_lexer": "ipython3",
   "version": "3.12.7"
  }
 },
 "nbformat": 4,
 "nbformat_minor": 5
}
