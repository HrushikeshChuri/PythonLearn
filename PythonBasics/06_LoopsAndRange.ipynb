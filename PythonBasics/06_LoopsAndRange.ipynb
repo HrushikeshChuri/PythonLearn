{
 "cells": [
  {
   "cell_type": "markdown",
   "id": "372271aa-2ce8-4d72-8774-396f2e07ec80",
   "metadata": {},
   "source": [
    "## Loops and ranges"
   ]
  },
  {
   "cell_type": "markdown",
   "id": "e5a19322-d340-418a-bd24-a8d94ed3c364",
   "metadata": {},
   "source": [
    "###   1. While Loop"
   ]
  },
  {
   "cell_type": "code",
   "execution_count": null,
   "id": "ee4d3fb6-2049-4381-89ea-dfe5fe820d91",
   "metadata": {},
   "outputs": [],
   "source": [
    "counter = 0\n",
    "\n",
    "while counter < 10:\n",
    "    print(counter)\n",
    "    counter += 1"
   ]
  },
  {
   "cell_type": "markdown",
   "id": "bd62c2c9-4088-4e6a-abd8-6182ef2fe7b5",
   "metadata": {},
   "source": [
    "###  2. For Loop"
   ]
  },
  {
   "cell_type": "code",
   "execution_count": null,
   "id": "203155e6-8f70-485d-82bc-4022d7b312b7",
   "metadata": {},
   "outputs": [],
   "source": [
    "# Note that second argument number is excluded from range generation.\n",
    "# range(0,10) will only generate numbers from 0 till 9\n",
    " \n",
    "for counter in range(0,10):\n",
    "    print(counter)"
   ]
  },
  {
   "cell_type": "markdown",
   "id": "46ce0d27-3090-4c97-8af6-4210f3e9b1fc",
   "metadata": {},
   "source": [
    "### 2.a Break"
   ]
  },
  {
   "cell_type": "code",
   "execution_count": null,
   "id": "151d69e5-2cf1-4953-94a7-c17bb5c25e28",
   "metadata": {},
   "outputs": [],
   "source": [
    "counter = 0\n",
    "\n",
    "while True:\n",
    "    if counter > 9:\n",
    "        break\n",
    "    print(counter)\n",
    "    counter += 1"
   ]
  },
  {
   "cell_type": "markdown",
   "id": "f0079ff1-2abc-4648-ba18-73c8d7bc62aa",
   "metadata": {},
   "source": [
    "### 2.b Continue"
   ]
  },
  {
   "cell_type": "code",
   "execution_count": null,
   "id": "35e7b052-4229-4f4a-9c15-720c68546daa",
   "metadata": {},
   "outputs": [],
   "source": [
    "#print only even number\n",
    "\n",
    "counter = 10\n",
    "\n",
    "while counter > 0:\n",
    "    counter -= 1\n",
    "    if counter % 2 != 0:\n",
    "        continue\n",
    "    print(counter)"
   ]
  },
  {
   "cell_type": "markdown",
   "id": "a31991fa-5ca6-4508-a316-ac869a69d946",
   "metadata": {},
   "source": [
    "### 3. Nested Loops"
   ]
  },
  {
   "cell_type": "code",
   "execution_count": null,
   "id": "05cc4b4e-f4e6-4516-a2ff-ab47a08425f3",
   "metadata": {},
   "outputs": [],
   "source": [
    "#Cartesian products\n",
    "\n",
    "for x in range (0, 3):\n",
    "    for y in range(0, 3):\n",
    "        print(f\"({x},{y})\") \n"
   ]
  }
 ],
 "metadata": {
  "kernelspec": {
   "display_name": "Python 3 (ipykernel)",
   "language": "python",
   "name": "python3"
  },
  "language_info": {
   "codemirror_mode": {
    "name": "ipython",
    "version": 3
   },
   "file_extension": ".py",
   "mimetype": "text/x-python",
   "name": "python",
   "nbconvert_exporter": "python",
   "pygments_lexer": "ipython3",
   "version": "3.12.7"
  }
 },
 "nbformat": 4,
 "nbformat_minor": 5
}
