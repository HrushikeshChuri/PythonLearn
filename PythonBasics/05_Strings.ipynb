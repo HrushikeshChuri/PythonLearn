{
 "cells": [
  {
   "cell_type": "markdown",
   "id": "e0ef9cf5-459b-456f-8733-ed0a19fad004",
   "metadata": {},
   "source": [
    "## More on strings"
   ]
  },
  {
   "cell_type": "markdown",
   "id": "44d2d884-826b-4243-9a0a-66201ed73296",
   "metadata": {},
   "source": [
    "### Different types of declaring strings"
   ]
  },
  {
   "cell_type": "code",
   "execution_count": null,
   "id": "69527105-3ea5-468f-ad59-c15108dfde60",
   "metadata": {},
   "outputs": [],
   "source": [
    "varStringSingleQuotes = 'This is also \"string\"'\n",
    "varStringDoubleQuotes = \"This is 'string'\"\n",
    "varStringThreeQuotes = \"\"\"This is also 'another' way to define \\\"string\\\"\"\"\"\n",
    "varStringMultiline1 = \"\"\"\n",
    "This is multi line string.\n",
    "Very useful to increase readability.\n",
    "Also can be used while defining email message body\n",
    "\"\"\"\n",
    "varStringMultiline2 = '''\n",
    "This is multi line string.\n",
    "Very useful to increase readability.\n",
    "Also can be used while defining email message body\n",
    "'''\n",
    "\n",
    "print(\"varStringSingleQuotes: \", varStringSingleQuotes)\n",
    "print(\"varStringDoubleQuotes: \", varStringDoubleQuotes)\n",
    "print(\"varStringThreeQuotes: \", varStringThreeQuotes)\n",
    "print(\"varStringMultiline1: \", varStringMultiline1)\n",
    "print(\"varStringMultiline2: \", varStringMultiline2)"
   ]
  },
  {
   "cell_type": "markdown",
   "id": "5063bc82-213c-44b7-b18a-c382ef142590",
   "metadata": {},
   "source": [
    "### F-strings"
   ]
  },
  {
   "cell_type": "code",
   "execution_count": null,
   "id": "a80942b9-5329-4080-aeca-9e04f69ef486",
   "metadata": {},
   "outputs": [],
   "source": [
    "fStringExample = 35\n",
    "print(f\"You have entered : {fStringExample}. Good Job!\")  # Add f infromnt of string to make it F-String\n"
   ]
  },
  {
   "cell_type": "markdown",
   "id": "70bd3092-9010-44b3-bd41-7d45b684df76",
   "metadata": {},
   "source": [
    "### Slicing of strings"
   ]
  },
  {
   "cell_type": "code",
   "execution_count": null,
   "id": "5cf49b93-ff3d-4cc5-a4ea-ef6571912c13",
   "metadata": {},
   "outputs": [],
   "source": [
    "\n",
    "# Index         0123456789............. \n",
    "# Index         .................-3-2-1 \n",
    "\n",
    "sampleString = \"This is a sample string\"\n",
    "\n",
    "'''\n",
    "    1. Index always start from 0\n",
    "    2. [start index : end index : step] --> step is optional\n",
    "'''\n",
    "\n",
    "print(sampleString[1:5])  #start with index 1 and end with index 5-1 = 4\n",
    "print(sampleString[:5])  #Start with index 0 and end with index 5-1 = 4\n",
    "print(sampleString[2:]) #start with index 2 and go till end of the string\n",
    "print(sampleString[0:100]) #although end index is greater than lenght of string it considers end \n",
    "\n",
    "print(sampleString[-5:-2]) #slicing from behind\n",
    "\n",
    "print(sampleString[1:10:1]) #skipping one character\n",
    "\n",
    "print(sampleString[::-1])  #reverse whole string"
   ]
  },
  {
   "cell_type": "markdown",
   "id": "d2e01d4e-696f-41e5-9c02-15cce90b682d",
   "metadata": {},
   "source": [
    "### Common string methods"
   ]
  },
  {
   "cell_type": "code",
   "execution_count": null,
   "id": "64ed3d91-ba5c-456b-82da-c7cae7276ee3",
   "metadata": {},
   "outputs": [],
   "source": [
    "\n",
    "#string is ummutable. it cannot be changed\n",
    "sampleString2 = \" this is new, sample string    \"\n",
    "\n",
    "print(sampleString2.lower())\n",
    "print(sampleString2.upper())\n",
    "print(sampleString2.strip())\n",
    "print(sampleString2.replace(\"s\", \"x\"))\n",
    "print(sampleString2.split(\",\"))\n",
    "\n",
    "print(sampleString2.count(\"is\"))\n",
    "print(sampleString2.count(\"is\", 0 ,5))\n",
    "print(sampleString2.count(\"is\", 6, 10))\n",
    "\n",
    "print(sampleString2.strip().split(\",\"))"
   ]
  },
  {
   "cell_type": "markdown",
   "id": "75c16ae1-c45a-4a2d-9136-17cfc78544f4",
   "metadata": {},
   "source": [
    "### Escape characters"
   ]
  },
  {
   "cell_type": "code",
   "execution_count": null,
   "id": "d21043bd-9707-400c-b36b-7c15d0fe4f49",
   "metadata": {},
   "outputs": [],
   "source": [
    "# \\  to escape special character ( single quote, double quote )\n",
    "# \\n new line\n",
    "# \\t tab\n",
    "\n",
    "sampleString3 = \"This is new, \\\"sample\\\" string \\nThis is new line.\\n Table\\tChair\\tPen\"\n",
    "\n",
    "print(sampleString3)"
   ]
  }
 ],
 "metadata": {
  "kernelspec": {
   "display_name": "Python 3 (ipykernel)",
   "language": "python",
   "name": "python3"
  },
  "language_info": {
   "codemirror_mode": {
    "name": "ipython",
    "version": 3
   },
   "file_extension": ".py",
   "mimetype": "text/x-python",
   "name": "python",
   "nbconvert_exporter": "python",
   "pygments_lexer": "ipython3",
   "version": "3.12.7"
  }
 },
 "nbformat": 4,
 "nbformat_minor": 5
}
