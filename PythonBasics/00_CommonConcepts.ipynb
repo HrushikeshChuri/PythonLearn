{
 "cells": [
  {
   "cell_type": "markdown",
   "id": "fc497903-8b5a-47f6-bab2-e1753cadedd1",
   "metadata": {
    "panel-layout": {
     "height": 51.140625,
     "visible": true,
     "width": 100
    }
   },
   "source": [
    "## Comments\n"
   ]
  },
  {
   "cell_type": "code",
   "execution_count": null,
   "id": "0cb2f577-6ebf-4a6a-809f-3e5a13bffc96",
   "metadata": {
    "panel-layout": {
     "height": 68.28125,
     "visible": true,
     "width": 100
    }
   },
   "outputs": [],
   "source": [
    "\n",
    "# Single line comment\n",
    "\n",
    "# This is a - \n",
    "# Multiline comment\n",
    "\n",
    "\"\"\"\n",
    "    This is also a multiline\n",
    "    comment\n",
    "\"\"\"\n"
   ]
  },
  {
   "cell_type": "markdown",
   "id": "3840468c-6237-41de-8e0a-f8b9a0e8b1e5",
   "metadata": {},
   "source": [
    "## Lexical Rules"
   ]
  },
  {
   "cell_type": "markdown",
   "id": "c49378ea-c7e3-472c-92c2-3d8e273fc827",
   "metadata": {},
   "source": [
    "\n",
    "#\tLine termination\n",
    "#\tMultiple expressions per line\n",
    "#\tLine continuation\n",
    "#\tGrouping statements\n"
   ]
  },
  {
   "cell_type": "code",
   "execution_count": null,
   "id": "daf37d98-b837-4c65-be5a-c10e2219e182",
   "metadata": {},
   "outputs": [],
   "source": []
  }
 ],
 "metadata": {
  "kernelspec": {
   "display_name": "Python 3 (ipykernel)",
   "language": "python",
   "name": "python3"
  },
  "language_info": {
   "codemirror_mode": {
    "name": "ipython",
    "version": 3
   },
   "file_extension": ".py",
   "mimetype": "text/x-python",
   "name": "python",
   "nbconvert_exporter": "python",
   "pygments_lexer": "ipython3",
   "version": "3.12.7"
  },
  "panel-cell-order": [
   "fc497903-8b5a-47f6-bab2-e1753cadedd1",
   "0cb2f577-6ebf-4a6a-809f-3e5a13bffc96"
  ]
 },
 "nbformat": 4,
 "nbformat_minor": 5
}
