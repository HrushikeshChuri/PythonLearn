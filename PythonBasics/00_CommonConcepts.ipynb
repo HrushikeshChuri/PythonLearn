{
 "cells": [
  {
   "cell_type": "markdown",
   "id": "fc497903-8b5a-47f6-bab2-e1753cadedd1",
   "metadata": {
    "panel-layout": {
     "height": 51.140625,
     "visible": true,
     "width": 100
    }
   },
   "source": [
    "## Comments\n"
   ]
  },
  {
   "cell_type": "code",
   "execution_count": 16,
   "id": "0cb2f577-6ebf-4a6a-809f-3e5a13bffc96",
   "metadata": {
    "panel-layout": {
     "height": 68.28125,
     "visible": true,
     "width": 100
    }
   },
   "outputs": [
    {
     "data": {
      "text/plain": [
       "'\\n    This is also a multiline\\n    comment\\n'"
      ]
     },
     "execution_count": 16,
     "metadata": {},
     "output_type": "execute_result"
    }
   ],
   "source": [
    "\n",
    "# Single line comment\n",
    "\n",
    "# This is a - \n",
    "# Multiline comment\n",
    "\n",
    "\"\"\"\n",
    "    This is also a multiline\n",
    "    comment\n",
    "\"\"\"\n"
   ]
  },
  {
   "cell_type": "markdown",
   "id": "3840468c-6237-41de-8e0a-f8b9a0e8b1e5",
   "metadata": {},
   "source": [
    "## Lexical Rules"
   ]
  },
  {
   "cell_type": "markdown",
   "id": "0607470c-0b77-4a27-922a-a7014475ed02",
   "metadata": {},
   "source": [
    "#### Line termination"
   ]
  },
  {
   "cell_type": "code",
   "execution_count": 20,
   "id": "e60c2704-7a68-4307-9c20-d81025b1f47e",
   "metadata": {},
   "outputs": [
    {
     "name": "stdout",
     "output_type": "stream",
     "text": [
      "30\n"
     ]
    }
   ],
   "source": [
    "# In Python, the end of a line is usually terminated by the newline character (\\n). \n",
    "# Each statement or expression is written on a new line, and when you hit \"Enter,\" Python understands it as the end of the statement, unless told otherwise.\n",
    "\n",
    "x = 10  # Statement ends after this line\n",
    "y = 20  # Statement ends after this line\n",
    "print(x + y)  # Statement ends after this line"
   ]
  },
  {
   "cell_type": "markdown",
   "id": "009df0f7-2615-431a-a880-c5683725200c",
   "metadata": {},
   "source": [
    "#### Grouping statements"
   ]
  },
  {
   "cell_type": "code",
   "execution_count": 23,
   "id": "3e616b80-ac82-431a-8748-8cf26390ba07",
   "metadata": {},
   "outputs": [
    {
     "name": "stdout",
     "output_type": "stream",
     "text": [
      "x is greater than 5\n",
      "This is part of the if block\n"
     ]
    }
   ],
   "source": [
    "# one can group statementes by simply adding tab or indentation\n",
    "\n",
    "x = 10\n",
    "if x > 5:\n",
    "    print(\"x is greater than 5\")\n",
    "    print(\"This is part of the if block\")\n",
    "else:\n",
    "    print(\"x is less than or equal to 5\")"
   ]
  },
  {
   "cell_type": "markdown",
   "id": "81db5b7f-6280-4ec8-827c-e924965480ca",
   "metadata": {},
   "source": [
    "#### Line continuation"
   ]
  },
  {
   "cell_type": "code",
   "execution_count": 26,
   "id": "5ef0f403-7572-4475-86a1-e57a04cee0e7",
   "metadata": {},
   "outputs": [
    {
     "name": "stdout",
     "output_type": "stream",
     "text": [
      "360\n",
      "This is a very long string that we want to split across multiple lines for better readability.\n"
     ]
    }
   ],
   "source": [
    "\n",
    "# Explicit line continuation using backslash\n",
    "total = 10 + 20 + 30 + 40 + \\\n",
    "        50 + 60 + 70 + 80\n",
    "\n",
    "# Long string split across multiple lines using backslash\n",
    "long_string = \"This is a very long string that \" + \\\n",
    "              \"we want to split across multiple lines \" + \\\n",
    "              \"for better readability.\"\n",
    "\n",
    "print(total)\n",
    "print(long_string)\n"
   ]
  },
  {
   "cell_type": "markdown",
   "id": "474fe215-4b70-4b5d-b03d-254793b51f0c",
   "metadata": {},
   "source": [
    "#### Multiple expressions per line"
   ]
  },
  {
   "cell_type": "code",
   "execution_count": 29,
   "id": "8e057934-e03f-4127-9c79-2c9677834379",
   "metadata": {},
   "outputs": [
    {
     "name": "stdout",
     "output_type": "stream",
     "text": [
      "50\n"
     ]
    }
   ],
   "source": [
    "# Use semi-colon to write multiple statements on single line\n",
    "# Although it is good practice not to do so\n",
    "\n",
    "a = 5; b = 10; print(a * b); result = a + b"
   ]
  }
 ],
 "metadata": {
  "kernelspec": {
   "display_name": "Python 3 (ipykernel)",
   "language": "python",
   "name": "python3"
  },
  "language_info": {
   "codemirror_mode": {
    "name": "ipython",
    "version": 3
   },
   "file_extension": ".py",
   "mimetype": "text/x-python",
   "name": "python",
   "nbconvert_exporter": "python",
   "pygments_lexer": "ipython3",
   "version": "3.12.7"
  },
  "panel-cell-order": [
   "fc497903-8b5a-47f6-bab2-e1753cadedd1",
   "0cb2f577-6ebf-4a6a-809f-3e5a13bffc96"
  ]
 },
 "nbformat": 4,
 "nbformat_minor": 5
}
