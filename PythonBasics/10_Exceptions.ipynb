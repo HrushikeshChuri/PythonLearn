{
 "cells": [
  {
   "cell_type": "markdown",
   "id": "abbbf333-2396-42e2-a82b-4589962d7bff",
   "metadata": {},
   "source": [
    "## Exceptions"
   ]
  },
  {
   "cell_type": "markdown",
   "id": "6043183a-5110-4ba4-8197-0bfb7f052f3b",
   "metadata": {},
   "source": [
    "1. Try...Except\n",
    "2. Multiple exceptions\n",
    "3. Else\n",
    "4. Finally\n",
    "5. Raising exceptions"
   ]
  },
  {
   "cell_type": "markdown",
   "id": "d3990110-9962-428e-ba77-aeaac03e61d9",
   "metadata": {},
   "source": [
    "#### Try...Except"
   ]
  },
  {
   "cell_type": "code",
   "execution_count": null,
   "id": "65944d3e-5d7e-455d-aa28-9d02ab42e2df",
   "metadata": {},
   "outputs": [],
   "source": [
    "# catching generic error\n",
    "\n",
    "try:\n",
    "    print(8/0)\n",
    "except: # Generic error\n",
    "    print(\"Error!\")  \n"
   ]
  },
  {
   "cell_type": "code",
   "execution_count": null,
   "id": "b1cf1ea6-aac5-4767-a837-25d8cec25a74",
   "metadata": {},
   "outputs": [],
   "source": [
    "# catching specific error\n",
    "\n",
    "try:\n",
    "    print(8/0)\n",
    "except ZeroDivisionError: # Specific error\n",
    "    print(\"Divide by Zero error!\") \n",
    "    "
   ]
  },
  {
   "cell_type": "markdown",
   "id": "61fb038b-4db9-40b6-9b87-a118f32fd244",
   "metadata": {},
   "source": [
    "#### Multiple exceptions"
   ]
  },
  {
   "cell_type": "code",
   "execution_count": null,
   "id": "7acc58b1-79fc-453c-8738-1f5f751f22ee",
   "metadata": {},
   "outputs": [],
   "source": [
    "# catching multiple exceptions\n",
    "# whiver error is occured first will be caught first (in below example it will be Divide by zero error\n",
    "\n",
    "try:\n",
    "    print(8/0)\n",
    "    print(a/0)\n",
    "except ZeroDivisionError:\n",
    "    print(\"Divide by Zero error!\") \n",
    "except NameError:\n",
    "    print(\"Looks like variable is not defined!\") \n"
   ]
  },
  {
   "cell_type": "markdown",
   "id": "dc3450d0-d0fa-46f6-a855-7572b1965508",
   "metadata": {},
   "source": [
    "#### Else"
   ]
  },
  {
   "cell_type": "code",
   "execution_count": null,
   "id": "5081bbac-ff89-4e5a-9edc-cdab5c871551",
   "metadata": {},
   "outputs": [],
   "source": [
    "# Else block will be executed if there is no exception\n",
    "\n",
    "try:\n",
    "    print(8/2)\n",
    "except ZeroDivisionError:\n",
    "    print(\"Divide by Zero error!\") \n",
    "else:\n",
    "    print(\"Division is done without any issue!\")\n",
    "    "
   ]
  },
  {
   "cell_type": "markdown",
   "id": "18249b3a-533e-4119-8eac-52d173ba5327",
   "metadata": {},
   "source": [
    "#### Finally"
   ]
  },
  {
   "cell_type": "code",
   "execution_count": null,
   "id": "bc5eecb3-e4a5-45e4-8a04-d13e637fc764",
   "metadata": {},
   "outputs": [],
   "source": [
    "# Finally block is executed regardless or exception is thrown or not\n",
    "\n",
    "try:\n",
    "    print(8/0)\n",
    "except ZeroDivisionError:\n",
    "    print(\"Divide by Zero error!\") \n",
    "finally:\n",
    "    print(\"In finally block!\")\n",
    "    "
   ]
  },
  {
   "cell_type": "markdown",
   "id": "6bbc2c65-5fa0-45f4-b22f-b34fe34a2924",
   "metadata": {},
   "source": [
    "#### Raising exceptions"
   ]
  },
  {
   "cell_type": "code",
   "execution_count": null,
   "id": "5a3c7589-cdec-4f2d-bfde-7976f4f89809",
   "metadata": {},
   "outputs": [],
   "source": [
    "age = int(input(\"Enter your age: \"))\n",
    "\n",
    "if age < 18:\n",
    "    raise Exception(\"Age should be greater than 18 to play!\")\n",
    "else:\n",
    "    print(\"Let's play!\")"
   ]
  }
 ],
 "metadata": {
  "kernelspec": {
   "display_name": "Python 3 (ipykernel)",
   "language": "python",
   "name": "python3"
  },
  "language_info": {
   "codemirror_mode": {
    "name": "ipython",
    "version": 3
   },
   "file_extension": ".py",
   "mimetype": "text/x-python",
   "name": "python",
   "nbconvert_exporter": "python",
   "pygments_lexer": "ipython3",
   "version": "3.12.7"
  }
 },
 "nbformat": 4,
 "nbformat_minor": 5
}
