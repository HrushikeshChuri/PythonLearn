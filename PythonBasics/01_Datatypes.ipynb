{
 "cells": [
  {
   "cell_type": "markdown",
   "id": "9deffa1d-ed0a-40a5-af57-c6c775fb459e",
   "metadata": {},
   "source": [
    "## Python Data Types"
   ]
  },
  {
   "cell_type": "markdown",
   "id": "ff5b193a-7a41-4224-9a07-a2d9e0f5b01e",
   "metadata": {},
   "source": [
    "Everything in python is an object derived from class\n",
    "\n",
    "1. Basic Data types: int, float, bool\n",
    "2. Sequence Type: list, tuple, range, string (str)\n",
    "3. Set: set, frozenset\n",
    "4. Mapping: dictionary (dict) \n",
    "\n",
    "*********************************************************************\n",
    "\n",
    " - Mutable Types: List, Set, Dictionary (values can be modified using index)\n",
    " - Immutable type: Bool, Int, Float, Str, Tuple, Frozenset\n"
   ]
  },
  {
   "cell_type": "markdown",
   "id": "b96a7ff9-f902-4e69-a78b-c758f3dee64d",
   "metadata": {},
   "source": [
    "### Basic Types"
   ]
  },
  {
   "cell_type": "code",
   "execution_count": null,
   "id": "747e94a3-12b4-4f79-bd40-2f1133c5fd81",
   "metadata": {},
   "outputs": [],
   "source": [
    "# int\n",
    "varInt= 5\n",
    "\n",
    "print(\"varInt: \", varInt)\n",
    "print(\"varInt: \" + str(varInt)) #another way to print. Since varInt is not string, need to typecast to string\n",
    "print(\"Type of varInt: \", type(varInt)) #to check data type of any variable"
   ]
  },
  {
   "cell_type": "code",
   "execution_count": null,
   "id": "2fd6be77-d6af-426a-9e6a-23b3c5ea1566",
   "metadata": {},
   "outputs": [],
   "source": [
    "#float\n",
    "varFloat = 1.75\n",
    "\n",
    "print(\"varFloat: \", varFloat)\n",
    "print(\"Type of varFloat: \", type(varFloat)) #to check data type of any variable"
   ]
  },
  {
   "cell_type": "code",
   "execution_count": null,
   "id": "4349f535-6529-4cdd-ac4b-f54a36a00595",
   "metadata": {},
   "outputs": [],
   "source": [
    "#string\n",
    "varStringDoubleQuotes = \"This is string\"\n",
    "\n",
    "print(\"varStringDoubleQuotes: \", varStringDoubleQuotes)\n",
    "\n",
    "print(\"Type of varStringDoubleQuotes: \", type(varStringDoubleQuotes)) #to check data type of any variable\n"
   ]
  },
  {
   "cell_type": "code",
   "execution_count": null,
   "id": "f57bec8c-c3a8-4d41-b7e7-05b85ece81e2",
   "metadata": {},
   "outputs": [],
   "source": [
    "#boolean\n",
    "varBoolean = True  #or False.  Note that T & F are capital\n",
    "print(\"varBoolean: \", varBoolean)\n",
    "\n",
    "print(\"Type of varBoolean: \", type(varBoolean)) #to check data type of any variable"
   ]
  },
  {
   "cell_type": "markdown",
   "id": "29ca2513-b0e5-492a-b411-3b23e402d7da",
   "metadata": {},
   "source": [
    "### Sequence Types"
   ]
  },
  {
   "cell_type": "code",
   "execution_count": null,
   "id": "27f70221-6084-4fd5-be3c-3388798c81e5",
   "metadata": {},
   "outputs": [],
   "source": [
    "#List\n",
    "varList = [1, 2, 3]\n",
    "\n",
    "print(\"varList: \", varList)\n",
    "print(\"Type of varList: \", type(varList)) #to check data type of any variable\n"
   ]
  },
  {
   "cell_type": "code",
   "execution_count": null,
   "id": "b9d879c9-0b35-4260-a6f5-c02ba6e7479c",
   "metadata": {},
   "outputs": [],
   "source": [
    "#Tuple\n",
    "varTuple = (1, 2, 3)\n",
    "\n",
    "print(\"varTuple: \", varTuple)\n",
    "print(\"Type of varTuple: \", type(varTuple)) #to check data type of any variable"
   ]
  },
  {
   "cell_type": "code",
   "execution_count": null,
   "id": "ebe4d6b8-3ce8-431b-b507-d7e95939efea",
   "metadata": {},
   "outputs": [],
   "source": [
    "#Range\n",
    "varRange = range(0, 10)\n",
    "\n",
    "print(\"varRange: \", varRange) #we usually do not use range this way. It is used for iteration\n",
    "print(\"Type of varRange: \", type(varRange)) #to check data type of any variable\n",
    "\n",
    "#Using range object - Printing number from 0 to 9\n",
    "#Second parameter in range constructor (method/function) is always excluded in range\n",
    "\n",
    "print(\"Priting range: \")\n",
    "\n",
    "for num in range(0,10):\n",
    "    print(num)"
   ]
  },
  {
   "cell_type": "markdown",
   "id": "4b9a465e-26a3-4c33-87d2-e7ca09c1b595",
   "metadata": {},
   "source": [
    "### Set Types"
   ]
  },
  {
   "cell_type": "code",
   "execution_count": null,
   "id": "f473016e-cc9b-4130-8ee6-0577a221fee2",
   "metadata": {},
   "outputs": [],
   "source": [
    "#Set\n",
    "\n",
    "varSet = { 1, 2, 3}\n",
    "\n",
    "print(\"varSet: \", varSet)\n",
    "print(\"Type of varSet: \", type(varSet)) #to check data type of any variable"
   ]
  },
  {
   "cell_type": "code",
   "execution_count": null,
   "id": "3983285f-6945-40a0-8dd5-34c059d0778b",
   "metadata": {},
   "outputs": [],
   "source": [
    "#Frozenset\n",
    "\n",
    "varFrozenset =  frozenset([1, 2, 3])\n",
    "\n",
    "print(\"varFrozenset: \", varFrozenset)\n",
    "print(\"Type of varFrozenset: \", type(varFrozenset)) #to check data type of any variable"
   ]
  },
  {
   "cell_type": "markdown",
   "id": "523828b4-0217-4564-a20f-9eaf583986f1",
   "metadata": {},
   "source": [
    "### Mapping Types"
   ]
  },
  {
   "cell_type": "code",
   "execution_count": null,
   "id": "b88586aa-8c02-450b-b198-44f67132fd61",
   "metadata": {},
   "outputs": [],
   "source": [
    "varDictionary = { 'key1': \"value1\", 'key2': \"value2\"}\n",
    "\n",
    "print(\"varDictionary: \", varDictionary)\n",
    "print(\"Type of varDictionary: \", type(varDictionary)) #to check data type of any variable"
   ]
  }
 ],
 "metadata": {
  "kernelspec": {
   "display_name": "Python 3 (ipykernel)",
   "language": "python",
   "name": "python3"
  },
  "language_info": {
   "codemirror_mode": {
    "name": "ipython",
    "version": 3
   },
   "file_extension": ".py",
   "mimetype": "text/x-python",
   "name": "python",
   "nbconvert_exporter": "python",
   "pygments_lexer": "ipython3",
   "version": "3.12.7"
  }
 },
 "nbformat": 4,
 "nbformat_minor": 5
}
