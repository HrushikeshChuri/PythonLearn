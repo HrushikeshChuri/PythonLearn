{
 "cells": [
  {
   "cell_type": "markdown",
   "id": "9deffa1d-ed0a-40a5-af57-c6c775fb459e",
   "metadata": {},
   "source": [
    "## Python Data Types"
   ]
  },
  {
   "cell_type": "markdown",
   "id": "ff5b193a-7a41-4224-9a07-a2d9e0f5b01e",
   "metadata": {},
   "source": [
    "Everything in python is an object derived from class\n",
    "\n",
    "1. Basic Data types: int, float, bool\n",
    "2. Sequence Type: list, tuple, range, string (str)\n",
    "3. Set: set, frozenset\n",
    "4. Mapping: dictionary (dict) \n",
    "\n",
    "*********************************************************************\n",
    "\n",
    " - Mutable Types: List, Set, Dictionary (values can be modified using index)\n",
    " - Immutable type: Bool, Int, Float, Str, Tuple, Frozenset\n"
   ]
  },
  {
   "cell_type": "markdown",
   "id": "b96a7ff9-f902-4e69-a78b-c758f3dee64d",
   "metadata": {},
   "source": [
    "### Basic Types"
   ]
  },
  {
   "cell_type": "code",
   "execution_count": 5,
   "id": "747e94a3-12b4-4f79-bd40-2f1133c5fd81",
   "metadata": {},
   "outputs": [
    {
     "name": "stdout",
     "output_type": "stream",
     "text": [
      "varInt:  5\n",
      "varInt: 5\n",
      "Type of varInt:  <class 'int'>\n"
     ]
    }
   ],
   "source": [
    "# int\n",
    "varInt= 5\n",
    "\n",
    "print(\"varInt: \", varInt)\n",
    "print(\"varInt: \" + str(varInt)) #another way to print. Since varInt is not string, need to typecast to string\n",
    "print(\"Type of varInt: \", type(varInt)) #to check data type of any variable"
   ]
  },
  {
   "cell_type": "code",
   "execution_count": 6,
   "id": "2fd6be77-d6af-426a-9e6a-23b3c5ea1566",
   "metadata": {},
   "outputs": [
    {
     "name": "stdout",
     "output_type": "stream",
     "text": [
      "varFloat:  1.75\n",
      "Type of varFloat:  <class 'float'>\n"
     ]
    }
   ],
   "source": [
    "#float\n",
    "varFloat = 1.75\n",
    "\n",
    "print(\"varFloat: \", varFloat)\n",
    "print(\"Type of varFloat: \", type(varFloat)) #to check data type of any variable"
   ]
  },
  {
   "cell_type": "code",
   "execution_count": 7,
   "id": "4349f535-6529-4cdd-ac4b-f54a36a00595",
   "metadata": {},
   "outputs": [
    {
     "name": "stdout",
     "output_type": "stream",
     "text": [
      "varStringDoubleQuotes:  This is string\n",
      "Type of varStringDoubleQuotes:  <class 'str'>\n"
     ]
    }
   ],
   "source": [
    "#string\n",
    "varStringDoubleQuotes = \"This is string\"\n",
    "\n",
    "print(\"varStringDoubleQuotes: \", varStringDoubleQuotes)\n",
    "\n",
    "print(\"Type of varStringDoubleQuotes: \", type(varStringDoubleQuotes)) #to check data type of any variable\n"
   ]
  },
  {
   "cell_type": "code",
   "execution_count": 8,
   "id": "f57bec8c-c3a8-4d41-b7e7-05b85ece81e2",
   "metadata": {},
   "outputs": [
    {
     "name": "stdout",
     "output_type": "stream",
     "text": [
      "varBoolean:  True\n",
      "Type of varBoolean:  <class 'bool'>\n"
     ]
    }
   ],
   "source": [
    "#boolean\n",
    "varBoolean = True  #or False.  Note that T & F are capital\n",
    "print(\"varBoolean: \", varBoolean)\n",
    "\n",
    "print(\"Type of varBoolean: \", type(varBoolean)) #to check data type of any variable"
   ]
  },
  {
   "cell_type": "markdown",
   "id": "29ca2513-b0e5-492a-b411-3b23e402d7da",
   "metadata": {},
   "source": [
    "### Sequence Types"
   ]
  },
  {
   "cell_type": "code",
   "execution_count": 10,
   "id": "27f70221-6084-4fd5-be3c-3388798c81e5",
   "metadata": {},
   "outputs": [
    {
     "name": "stdout",
     "output_type": "stream",
     "text": [
      "varList:  [1, 2, 3]\n",
      "Type of varList:  <class 'list'>\n"
     ]
    }
   ],
   "source": [
    "#List\n",
    "varList = [1, 2, 3]\n",
    "\n",
    "print(\"varList: \", varList)\n",
    "print(\"Type of varList: \", type(varList)) #to check data type of any variable\n"
   ]
  },
  {
   "cell_type": "code",
   "execution_count": 11,
   "id": "b9d879c9-0b35-4260-a6f5-c02ba6e7479c",
   "metadata": {},
   "outputs": [
    {
     "name": "stdout",
     "output_type": "stream",
     "text": [
      "varTuple:  (1, 2, 3)\n",
      "Type of varTuple:  <class 'tuple'>\n"
     ]
    }
   ],
   "source": [
    "#Tuple\n",
    "varTuple = (1, 2, 3)\n",
    "\n",
    "print(\"varTuple: \", varTuple)\n",
    "print(\"Type of varTuple: \", type(varTuple)) #to check data type of any variable"
   ]
  },
  {
   "cell_type": "code",
   "execution_count": 12,
   "id": "ebe4d6b8-3ce8-431b-b507-d7e95939efea",
   "metadata": {},
   "outputs": [
    {
     "name": "stdout",
     "output_type": "stream",
     "text": [
      "varRange:  range(0, 10)\n",
      "Type of varRange:  <class 'range'>\n",
      "Priting range: \n",
      "0\n",
      "1\n",
      "2\n",
      "3\n",
      "4\n",
      "5\n",
      "6\n",
      "7\n",
      "8\n",
      "9\n"
     ]
    }
   ],
   "source": [
    "#Range\n",
    "varRange = range(0, 10)\n",
    "\n",
    "print(\"varRange: \", varRange) #we usually do not use range this way. It is used for iteration\n",
    "print(\"Type of varRange: \", type(varRange)) #to check data type of any variable\n",
    "\n",
    "#Using range object - Printing number from 0 to 9\n",
    "#Second parameter in range constructor (method/function) is always excluded in range\n",
    "\n",
    "print(\"Priting range: \")\n",
    "\n",
    "for num in range(0,10):\n",
    "    print(num)"
   ]
  },
  {
   "cell_type": "markdown",
   "id": "4b9a465e-26a3-4c33-87d2-e7ca09c1b595",
   "metadata": {},
   "source": [
    "### Set Types"
   ]
  },
  {
   "cell_type": "code",
   "execution_count": 14,
   "id": "f473016e-cc9b-4130-8ee6-0577a221fee2",
   "metadata": {},
   "outputs": [
    {
     "name": "stdout",
     "output_type": "stream",
     "text": [
      "varSet:  {1, 2, 3}\n",
      "Type of varSet:  <class 'set'>\n"
     ]
    }
   ],
   "source": [
    "#Set\n",
    "\n",
    "varSet = { 1, 2, 3}\n",
    "\n",
    "print(\"varSet: \", varSet)\n",
    "print(\"Type of varSet: \", type(varSet)) #to check data type of any variable"
   ]
  },
  {
   "cell_type": "code",
   "execution_count": 15,
   "id": "3983285f-6945-40a0-8dd5-34c059d0778b",
   "metadata": {},
   "outputs": [
    {
     "name": "stdout",
     "output_type": "stream",
     "text": [
      "varFrozenset:  frozenset({1, 2, 3})\n",
      "Type of varFrozenset:  <class 'frozenset'>\n"
     ]
    }
   ],
   "source": [
    "#Frozenset\n",
    "\n",
    "varFrozenset =  frozenset([1, 2, 3])\n",
    "\n",
    "print(\"varFrozenset: \", varFrozenset)\n",
    "print(\"Type of varFrozenset: \", type(varFrozenset)) #to check data type of any variable"
   ]
  },
  {
   "cell_type": "markdown",
   "id": "523828b4-0217-4564-a20f-9eaf583986f1",
   "metadata": {},
   "source": [
    "### Mapping Types"
   ]
  },
  {
   "cell_type": "code",
   "execution_count": 17,
   "id": "b88586aa-8c02-450b-b198-44f67132fd61",
   "metadata": {},
   "outputs": [
    {
     "name": "stdout",
     "output_type": "stream",
     "text": [
      "varDictionary:  {'key1': 'value1', 'key2': 'value2'}\n",
      "Type of varDictionary:  <class 'dict'>\n"
     ]
    }
   ],
   "source": [
    "varDictionary = { 'key1': \"value1\", 'key2': \"value2\"}\n",
    "\n",
    "print(\"varDictionary: \", varDictionary)\n",
    "print(\"Type of varDictionary: \", type(varDictionary)) #to check data type of any variable"
   ]
  },
  {
   "cell_type": "code",
   "execution_count": null,
   "id": "8dbe9ab5-ecc4-4939-94f6-afa6a6d44427",
   "metadata": {},
   "outputs": [],
   "source": []
  }
 ],
 "metadata": {
  "kernelspec": {
   "display_name": "Python 3 (ipykernel)",
   "language": "python",
   "name": "python3"
  },
  "language_info": {
   "codemirror_mode": {
    "name": "ipython",
    "version": 3
   },
   "file_extension": ".py",
   "mimetype": "text/x-python",
   "name": "python",
   "nbconvert_exporter": "python",
   "pygments_lexer": "ipython3",
   "version": "3.12.7"
  }
 },
 "nbformat": 4,
 "nbformat_minor": 5
}
